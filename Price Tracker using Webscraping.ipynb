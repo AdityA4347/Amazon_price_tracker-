{
 "cells": [
  {
   "cell_type": "code",
   "execution_count": 1,
   "id": "e9842417-0c29-4abd-8faa-99547bad2ec3",
   "metadata": {},
   "outputs": [],
   "source": [
    "import requests\n",
    "from bs4 import BeautifulSoup\n",
    "import smtplib\n",
    "import csv\n",
    "import datetime\n",
    "import os\n",
    "import time\n"
   ]
  },
  {
   "cell_type": "code",
   "execution_count": null,
   "id": "043eda04",
   "metadata": {},
   "outputs": [],
   "source": []
  },
  {
   "cell_type": "code",
   "execution_count": 4,
   "id": "9a9832d1-0f9a-4795-a5cb-bfbfe056da4b",
   "metadata": {},
   "outputs": [],
   "source": [
    "#smtp lib is used here for sending mails\n",
    "def send_email():\n",
    "    server = smtplib.SMTP(\"smtp.gmail.com\",587)\n",
    "    server.ehlo()\n",
    "    server.starttls()\n",
    "    server.ehlo()\n",
    "\n",
    "    server.login(\"mehoaditya@gmail.com\",\"Aditya@123\")\n",
    "\n",
    "    subject= \"Notification for product price from Amazon\"\n",
    "    body = f\"The Price for the product which you want to track is now available at the price below your set price tag limit. Go and order now at:{link} \",\n",
    "    msg = f\"Subject:{subject}\\n\\n\\n\\n{body}\"\n",
    "\n",
    "    server.sendmail(\"mehoaditya@gmail.com\",\"mehoaditya@gmail.com\",msg)\n",
    "    print(\"Email has been Sent\")\n",
    "    server.quit()\n"
   ]
  },
  {
   "cell_type": "code",
   "execution_count": null,
   "id": "3440820e-55c5-48a0-8485-0518c176de95",
   "metadata": {},
   "outputs": [
    {
     "name": "stdout",
     "output_type": "stream",
     "text": [
      "Enter the link for the product: \n"
     ]
    }
   ],
   "source": [
    "link=\"\"\n",
    "print(\"Enter the link for the product: \")\n",
    "link=input()\n",
    "url = link\n",
    "time_delay= input(\"Enter time delay for notification mails: \")\n",
    "\n",
    "headers = {'User-Agent' : 'Mozilla/5.0 (Windows NT 10.0; Win64; x64) AppleWebKit/537.36 (KHTML, like Gecko) Chrome/85.0.4183.83 Safari/537.36'}\n",
    "def check_price_and_log():\n",
    "    page = requests.get(url, headers=headers)\n",
    "\n",
    "    bs = BeautifulSoup(page.content, 'html.parser')\n",
    "\n",
    "    #print(bs.prettify().encode(\"utf-8\"))\n",
    "\n",
    "    #product_title = bs.find(id = \"titleSection\").get_text().strip()[2:]\n",
    "    #print(product_title)\n",
    "\n",
    "    product_price = bs.find(id = \"corePriceDisplay_desktop_feature_div\").get_text().strip()[2:]\n",
    "\n",
    "\n",
    "    product_price = product_price[4:9]\n",
    "    print(\"Current price of the product is:\",product_price)\n",
    "\n",
    "    price_float = float(product_price.replace(\",\",\"\"))\n",
    "    # print(price_float)\n",
    "\n",
    "    file_exists = True\n",
    "\n",
    "    if not os.path.exists(\"./price.csv\"):\n",
    "        file_exists = False\n",
    "\n",
    "    with open(\"price.csv\",\"a\") as file:\n",
    "        writer = csv.writer(file,lineterminator =\"\\n\")\n",
    "        fields = [\"Timestamp\",\"price\"]\n",
    "        \n",
    "        if not file_exists:\n",
    "            writer.writerow(fields)\n",
    "\n",
    "        timestamp = f\"{datetime.datetime.date(datetime.datetime.now())},{datetime.datetime.time(datetime.datetime.now())}\"\n",
    "        writer.writerow([timestamp, price_float])\n",
    "        # print(\"wrote csv data\")\n",
    "\n",
    "    return price_float\n",
    "\n",
    "price_limit = input(\"Enter the price limit tag: \")\n",
    "\n",
    "while True:\n",
    "    price = check_price_and_log()\n",
    "    if(price <= float(price_limit)):\n",
    "        send_email()\n",
    "    else:\n",
    "        print(\"Current price is more than tag limit.\")\n",
    "        break\n",
    "    time.sleep(int(time_delay))"
   ]
  },
  {
   "cell_type": "code",
   "execution_count": null,
   "id": "02e3b8ca-e25c-4567-a461-df7416daf43a",
   "metadata": {},
   "outputs": [],
   "source": []
  }
 ],
 "metadata": {
  "kernelspec": {
   "display_name": "Python 3 (ipykernel)",
   "language": "python",
   "name": "python3"
  },
  "language_info": {
   "codemirror_mode": {
    "name": "ipython",
    "version": 3
   },
   "file_extension": ".py",
   "mimetype": "text/x-python",
   "name": "python",
   "nbconvert_exporter": "python",
   "pygments_lexer": "ipython3",
   "version": "3.9.7"
  }
 },
 "nbformat": 4,
 "nbformat_minor": 5
}
